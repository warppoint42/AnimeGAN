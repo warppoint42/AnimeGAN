{
 "cells": [
  {
   "cell_type": "code",
   "execution_count": 79,
   "metadata": {},
   "outputs": [],
   "source": [
    "import csv\n",
    "import subprocess\n",
    "import math\n",
    "import json\n",
    "import os\n",
    "import shlex\n",
    "import cv2 \n",
    "import shutil\n",
    "from tqdm import tqdm\n",
    "import numpy as np"
   ]
  },
  {
   "cell_type": "code",
   "execution_count": 46,
   "metadata": {},
   "outputs": [],
   "source": [
    "def cleardir(dirpath):\n",
    "    if os.path.exists(dirpath) and os.path.isdir(dirpath):\n",
    "        shutil.rmtree(dirpath)\n",
    "    try:\n",
    "        os.mkdir(dirpath)\n",
    "    except OSError:\n",
    "        print (\"Creation of the directory %s failed\" % dirpath)\n",
    "    else:\n",
    "        print (\"Successfully created the directory %s \" % dirpath)"
   ]
  },
  {
   "cell_type": "code",
   "execution_count": 70,
   "metadata": {},
   "outputs": [],
   "source": [
    "# https://github.com/c0decracker/video-splitter/blob/master/ffmpeg-split.py\n",
    "\n",
    "def get_video_length(filename):\n",
    "\n",
    "    output = subprocess.check_output((\"ffprobe\", \"-v\", \"error\", \"-show_entries\", \"format=duration\", \"-of\", \"default=noprint_wrappers=1:nokey=1\", filename)).strip()\n",
    "    video_length = int(float(output))\n",
    "    print (\"Video length in seconds: \"+str(video_length))\n",
    "\n",
    "    return video_length\n",
    "\n",
    "def ceildiv(a, b):\n",
    "    return int(math.ceil(a / float(b)))\n",
    "\n",
    "def split_by_seconds(filename, split_length, vcodec=\"copy\", acodec=\"copy\",\n",
    "                     extra=\"\", video_length=None, **kwargs):\n",
    "    if split_length and split_length <= 0:\n",
    "        print(\"Split length can't be 0\")\n",
    "        raise SystemExit\n",
    "\n",
    "    if not video_length:\n",
    "        video_length = get_video_length(filename)\n",
    "    split_count = ceildiv(video_length, split_length)\n",
    "    if(split_count == 1):\n",
    "        print(\"Video length is less then the target split length.\")\n",
    "        raise SystemExit\n",
    "\n",
    "#     split_cmd = [\"ffmpeg\", \"-i\", filename, \"-vcodec\", vcodec, \"-acodec\", acodec] + shlex.split(extra)\n",
    "    split_cmd = [\"ffmpeg\"] + shlex.split(extra)\n",
    "    try:\n",
    "        filebase = \".\".join(filename.split(\".\")[:-1])\n",
    "        shortname = filebase.split('/')[-1]\n",
    "        fileext = filename.split(\".\")[-1]\n",
    "    except IndexError as e:\n",
    "        raise IndexError(\"No . in filename. Error: \" + str(e))\n",
    "    \n",
    "    path = \"vid_short/\" + shortname\n",
    "    cleardir(path)\n",
    "        \n",
    "    for n in range(0, split_count):\n",
    "        split_args = []\n",
    "        if n == 0:\n",
    "            split_start = 0\n",
    "        else:\n",
    "            split_start = split_length * n\n",
    "\n",
    "#         split_args += [\"-ss\", str(split_start), \"-t\", str(split_length),\n",
    "#                        filebase + \"-\" + str(n+1) + \"-of-\" + \\\n",
    "#                         str(split_count) + \".\" + fileext]\n",
    "        split_args += [\"-y\", \"-ss\", str(split_start), \"-t\", str(split_length), \"-i\", filename, \n",
    "                       \"-vcodec\", vcodec, \"-acodec\", acodec,\n",
    "                       \"vid_short/\" + shortname + \"/\" + shortname + str(n+1) + \".\" + fileext]\n",
    "        print (\"About to run: \"+\" \".join(split_cmd+split_args))\n",
    "        subprocess.check_output(split_cmd+split_args)"
   ]
  },
  {
   "cell_type": "code",
   "execution_count": 61,
   "metadata": {},
   "outputs": [],
   "source": [
    "# https://www.geeksforgeeks.org/python-program-extract-frames-using-opencv/\n",
    "# Program To Read video \n",
    "# and Extract Frames \n",
    "  \n",
    "# Function to extract frames \n",
    "def FrameCapture(inpath, outfolder, div = 24): \n",
    "      \n",
    "    cleardir(outfolder)\n",
    "    \n",
    "    # Path to video file \n",
    "    vidObj = cv2.VideoCapture(inpath) \n",
    "  \n",
    "    # Used as counter variable \n",
    "    count = 0\n",
    "  \n",
    "    # checks whether frames were extracted \n",
    "    success = 1\n",
    "  \n",
    "    while success: \n",
    "        vidObj.set(cv2.CAP_PROP_POS_MSEC,(count*1000/div))\n",
    "        # vidObj object calls read \n",
    "        # function extract frames \n",
    "        success, image = vidObj.read() \n",
    "        if not success:\n",
    "            break\n",
    "        # Saves the frames with frame-count \n",
    "        cv2.imwrite((outfolder + \"/\" + \"frame%d.jpg\") % count, image) \n",
    "  \n",
    "        count += 1\n",
    "  \n"
   ]
  },
  {
   "cell_type": "code",
   "execution_count": 62,
   "metadata": {},
   "outputs": [],
   "source": [
    "def rejoin(folder, pattern, outfile, fps):\n",
    "    cmd = \"ffmpeg -r \" + str(fps) + \" -i \" + folder + '/' + pattern + \" -vcodec mpeg4 -y \" + outfile\n",
    "    print(cmd)\n",
    "    os.system(cmd)\n",
    "#     os.system(\"ffmpeg -r 1 -i frame%01d.jpg -vcodec mpeg4 -y movie.mp4\")"
   ]
  },
  {
   "cell_type": "code",
   "execution_count": 76,
   "metadata": {},
   "outputs": [],
   "source": [
    "def edge_promoting(root, save):\n",
    "    file_list = os.listdir(root)\n",
    "    if not os.path.isdir(save):\n",
    "        os.makedirs(save)\n",
    "    kernel_size = 5\n",
    "    kernel = np.ones((kernel_size, kernel_size), np.uint8)\n",
    "    gauss = cv2.getGaussianKernel(kernel_size, 0)\n",
    "    gauss = gauss * gauss.transpose(1, 0)\n",
    "    n = 1\n",
    "    for f in tqdm(file_list):\n",
    "        rgb_img = cv2.imread(os.path.join(root, f))\n",
    "        gray_img = cv2.imread(os.path.join(root, f), 0)\n",
    "        rgb_img = cv2.resize(rgb_img, (256, 256))\n",
    "        pad_img = np.pad(rgb_img, ((2,2), (2,2), (0,0)), mode='reflect')\n",
    "        gray_img = cv2.resize(gray_img, (256, 256))\n",
    "        edges = cv2.Canny(gray_img, 100, 200)\n",
    "        dilation = cv2.dilate(edges, kernel)\n",
    "\n",
    "        gauss_img = np.copy(rgb_img)\n",
    "        idx = np.where(dilation != 0)\n",
    "        for i in range(np.sum(dilation != 0)):\n",
    "            gauss_img[idx[0][i], idx[1][i], 0] = np.sum(np.multiply(pad_img[idx[0][i]:idx[0][i] + kernel_size, idx[1][i]:idx[1][i] + kernel_size, 0], gauss))\n",
    "            gauss_img[idx[0][i], idx[1][i], 1] = np.sum(np.multiply(pad_img[idx[0][i]:idx[0][i] + kernel_size, idx[1][i]:idx[1][i] + kernel_size, 1], gauss))\n",
    "            gauss_img[idx[0][i], idx[1][i], 2] = np.sum(np.multiply(pad_img[idx[0][i]:idx[0][i] + kernel_size, idx[1][i]:idx[1][i] + kernel_size, 2], gauss))\n",
    "\n",
    "        result = np.concatenate((rgb_img, gauss_img), 1)\n",
    "\n",
    "        cv2.imwrite(os.path.join(save, str(n) + '.png'), result)\n",
    "        n += 1"
   ]
  },
  {
   "cell_type": "code",
   "execution_count": 71,
   "metadata": {},
   "outputs": [
    {
     "name": "stdout",
     "output_type": "stream",
     "text": [
      "Video length in seconds: 70\n",
      "Successfully created the directory vid_short/Jared \n",
      "About to run: ffmpeg -ss 0 -t 10 -i vid_full/Jared.mp4 -vcodec copy -acodec copy vid_short/Jared/Jared1.mp4\n",
      "About to run: ffmpeg -ss 10 -t 10 -i vid_full/Jared.mp4 -vcodec copy -acodec copy vid_short/Jared/Jared2.mp4\n",
      "About to run: ffmpeg -ss 20 -t 10 -i vid_full/Jared.mp4 -vcodec copy -acodec copy vid_short/Jared/Jared3.mp4\n",
      "About to run: ffmpeg -ss 30 -t 10 -i vid_full/Jared.mp4 -vcodec copy -acodec copy vid_short/Jared/Jared4.mp4\n",
      "About to run: ffmpeg -ss 40 -t 10 -i vid_full/Jared.mp4 -vcodec copy -acodec copy vid_short/Jared/Jared5.mp4\n",
      "About to run: ffmpeg -ss 50 -t 10 -i vid_full/Jared.mp4 -vcodec copy -acodec copy vid_short/Jared/Jared6.mp4\n",
      "About to run: ffmpeg -ss 60 -t 10 -i vid_full/Jared.mp4 -vcodec copy -acodec copy vid_short/Jared/Jared7.mp4\n"
     ]
    }
   ],
   "source": [
    "filename = \"Jared.mp4\"\n",
    "split_by_seconds(\"vid_full/\" + filename, 10)"
   ]
  },
  {
   "cell_type": "code",
   "execution_count": 77,
   "metadata": {},
   "outputs": [
    {
     "name": "stdout",
     "output_type": "stream",
     "text": [
      "Successfully created the directory vid_splice/Jared2/ \n"
     ]
    },
    {
     "ename": "KeyboardInterrupt",
     "evalue": "",
     "output_type": "error",
     "traceback": [
      "\u001b[0;31m---------------------------------------------------------------------------\u001b[0m",
      "\u001b[0;31mKeyboardInterrupt\u001b[0m                         Traceback (most recent call last)",
      "\u001b[0;32m<ipython-input-77-8d8d75a84fae>\u001b[0m in \u001b[0;36m<module>\u001b[0;34m\u001b[0m\n\u001b[0;32m----> 1\u001b[0;31m \u001b[0mFrameCapture\u001b[0m\u001b[0;34m(\u001b[0m\u001b[0;34m\"vid_short/Jared/Jared2.mp4\"\u001b[0m\u001b[0;34m,\u001b[0m \u001b[0;34m\"vid_splice/Jared2/\"\u001b[0m\u001b[0;34m)\u001b[0m\u001b[0;34m\u001b[0m\u001b[0;34m\u001b[0m\u001b[0m\n\u001b[0m",
      "\u001b[0;32m<ipython-input-61-58c6fff8bffb>\u001b[0m in \u001b[0;36mFrameCapture\u001b[0;34m(inpath, outfolder, div)\u001b[0m\n\u001b[1;32m     18\u001b[0m \u001b[0;34m\u001b[0m\u001b[0m\n\u001b[1;32m     19\u001b[0m     \u001b[0;32mwhile\u001b[0m \u001b[0msuccess\u001b[0m\u001b[0;34m:\u001b[0m\u001b[0;34m\u001b[0m\u001b[0;34m\u001b[0m\u001b[0m\n\u001b[0;32m---> 20\u001b[0;31m         \u001b[0mvidObj\u001b[0m\u001b[0;34m.\u001b[0m\u001b[0mset\u001b[0m\u001b[0;34m(\u001b[0m\u001b[0mcv2\u001b[0m\u001b[0;34m.\u001b[0m\u001b[0mCAP_PROP_POS_MSEC\u001b[0m\u001b[0;34m,\u001b[0m\u001b[0;34m(\u001b[0m\u001b[0mcount\u001b[0m\u001b[0;34m*\u001b[0m\u001b[0;36m1000\u001b[0m\u001b[0;34m/\u001b[0m\u001b[0mdiv\u001b[0m\u001b[0;34m)\u001b[0m\u001b[0;34m)\u001b[0m\u001b[0;34m\u001b[0m\u001b[0;34m\u001b[0m\u001b[0m\n\u001b[0m\u001b[1;32m     21\u001b[0m         \u001b[0;31m# vidObj object calls read\u001b[0m\u001b[0;34m\u001b[0m\u001b[0;34m\u001b[0m\u001b[0;34m\u001b[0m\u001b[0m\n\u001b[1;32m     22\u001b[0m         \u001b[0;31m# function extract frames\u001b[0m\u001b[0;34m\u001b[0m\u001b[0;34m\u001b[0m\u001b[0;34m\u001b[0m\u001b[0m\n",
      "\u001b[0;31mKeyboardInterrupt\u001b[0m: "
     ]
    }
   ],
   "source": [
    "FrameCapture(\"vid_short/Jared/Jared2.mp4\", \"vid_splice/Jared2\")"
   ]
  },
  {
   "cell_type": "code",
   "execution_count": 73,
   "metadata": {},
   "outputs": [
    {
     "name": "stdout",
     "output_type": "stream",
     "text": [
      "ffmpeg -r 24 -i vid_splice/Jared2/frame%01d.jpg -vcodec mpeg4 -y vid_join/Jared2.mp4\n"
     ]
    }
   ],
   "source": [
    "rejoin(\"vid_splice/Jared2\", \"frame%01d.jpg\", \"vid_join/Jared2.mp4\" ,24)"
   ]
  },
  {
   "cell_type": "code",
   "execution_count": 80,
   "metadata": {},
   "outputs": [
    {
     "name": "stderr",
     "output_type": "stream",
     "text": [
      "100%|██████████| 22/22 [00:18<00:00,  1.22it/s]\n"
     ]
    }
   ],
   "source": [
    "edge_promoting('vid_splice/Jared2', 'vid_splice/Jared2Fuzzy')"
   ]
  },
  {
   "cell_type": "code",
   "execution_count": 81,
   "metadata": {},
   "outputs": [
    {
     "name": "stdout",
     "output_type": "stream",
     "text": [
      "Creation of the directory  failed\n"
     ]
    }
   ],
   "source": [
    "FrameCapture(\"vid_data/join/Jared2.mp4\", \"\")"
   ]
  },
  {
   "cell_type": "code",
   "execution_count": null,
   "metadata": {},
   "outputs": [],
   "source": []
  }
 ],
 "metadata": {
  "kernelspec": {
   "display_name": "Python 3",
   "language": "python",
   "name": "python3"
  },
  "language_info": {
   "codemirror_mode": {
    "name": "ipython",
    "version": 3
   },
   "file_extension": ".py",
   "mimetype": "text/x-python",
   "name": "python",
   "nbconvert_exporter": "python",
   "pygments_lexer": "ipython3",
   "version": "3.7.4"
  }
 },
 "nbformat": 4,
 "nbformat_minor": 2
}
