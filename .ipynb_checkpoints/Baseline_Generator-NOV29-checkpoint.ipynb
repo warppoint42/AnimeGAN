{
 "cells": [
  {
   "cell_type": "markdown",
   "metadata": {},
   "source": [
    "# Uses https://github.com/lcylmhlcy/CartoonGAN-Pytorch and its pretrained models (or your own custom models) to generate frame-by-frame baselines.\n",
    "# Requires installation of ffmpeg."
   ]
  },
  {
   "cell_type": "code",
   "execution_count": 2,
   "metadata": {},
   "outputs": [],
   "source": [
    "import csv\n",
    "import subprocess\n",
    "import math\n",
    "import json\n",
    "import os\n",
    "import shlex\n",
    "import cv2 \n",
    "import shutil\n",
    "from tqdm import tqdm\n",
    "import numpy as np"
   ]
  },
  {
   "cell_type": "code",
   "execution_count": 20,
   "metadata": {},
   "outputs": [],
   "source": [
    "#create the directory if it doesn't exist, empty it if it does\n",
    "def cleardir(dirpath):\n",
    "    if os.path.exists(dirpath) and os.path.isdir(dirpath):\n",
    "        shutil.rmtree(dirpath)\n",
    "    try:\n",
    "        os.mkdir(dirpath)\n",
    "    except OSError:\n",
    "        print (\"Creation of the directory %s failed\" % dirpath)\n",
    "        print(OSError)\n",
    "    else:\n",
    "        print (\"Successfully created the directory %s \" % dirpath)"
   ]
  },
  {
   "cell_type": "code",
   "execution_count": 21,
   "metadata": {},
   "outputs": [],
   "source": [
    "# https://github.com/c0decracker/video-splitter/blob/master/ffmpeg-split.py\n",
    "\n",
    "def get_video_length(filename):\n",
    "\n",
    "    output = subprocess.check_output((\"ffprobe\", \"-v\", \"error\", \"-show_entries\", \"format=duration\", \"-of\", \"default=noprint_wrappers=1:nokey=1\", filename)).strip()\n",
    "    video_length = int(float(output))\n",
    "    print (\"Video length in seconds: \"+str(video_length))\n",
    "\n",
    "    return video_length\n",
    "\n",
    "def ceildiv(a, b):\n",
    "    return int(math.ceil(a / float(b)))\n",
    "\n",
    "def split_by_seconds(filename, split_length, vcodec=\"copy\", acodec=\"copy\",\n",
    "                     extra=\"\", video_length=None, **kwargs):\n",
    "    if split_length and split_length <= 0:\n",
    "        print(\"Split length can't be 0\")\n",
    "        raise SystemExit\n",
    "\n",
    "    if not video_length:\n",
    "        video_length = get_video_length(filename)\n",
    "    split_count = ceildiv(video_length, split_length)\n",
    "    if(split_count == 1):\n",
    "        print(\"Video length is less then the target split length.\")\n",
    "        raise SystemExit\n",
    "\n",
    "#     split_cmd = [\"ffmpeg\", \"-i\", filename, \"-vcodec\", vcodec, \"-acodec\", acodec] + shlex.split(extra)\n",
    "    split_cmd = [\"ffmpeg\"] + shlex.split(extra)\n",
    "    try:\n",
    "        filebase = \".\".join(filename.split(\".\")[:-1])\n",
    "        shortname = filebase.split('/')[-1]\n",
    "        fileext = filename.split(\".\")[-1]\n",
    "    except IndexError as e:\n",
    "        raise IndexError(\"No . in filename. Error: \" + str(e))\n",
    "    \n",
    "    path = \"vid_short/\" + shortname\n",
    "    cleardir(path)\n",
    "        \n",
    "    for n in range(0, split_count):\n",
    "        split_args = []\n",
    "        if n == 0:\n",
    "            split_start = 0\n",
    "        else:\n",
    "            split_start = split_length * n\n",
    "\n",
    "#         split_args += [\"-ss\", str(split_start), \"-t\", str(split_length),\n",
    "#                        filebase + \"-\" + str(n+1) + \"-of-\" + \\\n",
    "#                         str(split_count) + \".\" + fileext]\n",
    "        split_args += [\"-ss\", str(split_start), \"-t\", str(split_length), \"-i\", filename, \n",
    "                       \"-vcodec\", vcodec, \"-acodec\", acodec,\n",
    "                       \"vid_short/\" + shortname + \"/\" + shortname + str(n+1) + \".\" + fileext]\n",
    "        print (\"About to run: \"+\" \".join(split_cmd+split_args))\n",
    "        subprocess.check_output(split_cmd+split_args)"
   ]
  },
  {
   "cell_type": "code",
   "execution_count": 31,
   "metadata": {},
   "outputs": [],
   "source": [
    "# https://www.geeksforgeeks.org/python-program-extract-frames-using-opencv/\n",
    "# Program To Read video \n",
    "# and Extract Frames \n",
    "  \n",
    "# Function to extract frames \n",
    "def FrameCapture(inpath, outfolder, div = 24, startFrame = 0): \n",
    "      \n",
    "    cleardir(outfolder)\n",
    "    \n",
    "    # Path to video file \n",
    "    vidObj = cv2.VideoCapture(inpath) \n",
    "  \n",
    "    # Used as counter variable \n",
    "    count = startFrame\n",
    "  \n",
    "    # checks whether frames were extracted \n",
    "    success = 1\n",
    "  \n",
    "    while success: \n",
    "        vidObj.set(cv2.CAP_PROP_POS_MSEC,(count*1000/div))\n",
    "        # vidObj object calls read \n",
    "        # function extract frames \n",
    "        success, image = vidObj.read() \n",
    "        if not success:\n",
    "            break\n",
    "        # Saves the frames with frame-count \n",
    "        cv2.imwrite((outfolder + \"/\" + \"frame%d.jpg\") % count, image) \n",
    "  \n",
    "        count += 1\n",
    "  \n"
   ]
  },
  {
   "cell_type": "code",
   "execution_count": 23,
   "metadata": {},
   "outputs": [],
   "source": [
    "#rejoin all images in folder according to pattern into video at fps\n",
    "def rejoin(folder, pattern, outfile, fps):\n",
    "    cmd = \"ffmpeg -r \" + str(fps) + \" -i \" + folder + '/' + pattern + \" -vcodec mpeg4 -y -c:v libx264 -pix_fmt yuv420p \" + outfile\n",
    "    \n",
    "    print(cmd)\n",
    "    os.system(cmd)\n",
    "#     os.system(\"ffmpeg -r 1 -i frame%01d.jpg -vcodec mpeg4 -y movie.mp4\")"
   ]
  },
  {
   "cell_type": "code",
   "execution_count": 8,
   "metadata": {},
   "outputs": [
    {
     "name": "stdout",
     "output_type": "stream",
     "text": [
      "About to run: ffmpeg -y -ss 0 -t 26 -i AnimeGAN/vid_data/full/CynDance.mp4 -vcodec copy -acodec copy baseline/short/CynDance.mp4\n",
      "Successfully created the directory baseline/frames_in/CynDance \n",
      "Successfully created the directory baseline/frames_out/CynDance \n",
      "About to run: python CartoonGAN-Pytorch/test.py --input_dir baseline/frames_in/CynDance --output_dir baseline/frames_out/CynDance --gpu 0 --model_path CartoonGAN-Pytorch/pretrained_model\n"
     ]
    },
    {
     "data": {
      "text/plain": [
       "b'GPU mode\\nFinished!\\n'"
      ]
     },
     "execution_count": 8,
     "metadata": {},
     "output_type": "execute_result"
    }
   ],
   "source": [
    "split_start = 0 #start second\n",
    "split_length = 26 #end second\n",
    "outfile = \"CynDance\" #file identifier\n",
    "filename = \"AnimeGAN/vid_data/full/CynDance.mp4\" #infile\n",
    "shortoutfolder = \"baseline/short\" #outfolder for clipped video\n",
    "frameoutfolder = \"baseline/frames_in\" + \"/\" + outfile #outfolder for video frames\n",
    "frameoutfolder2 = \"baseline/frames_out\" + \"/\" + outfile #outfolder for converted frames\n",
    "videooutfolder = \"baseline/merge/\" + outfile #outfolder for merged conver\n",
    "\n",
    "\n",
    "\n",
    "split_args = [\"ffmpeg\", \"-y\", \"-ss\", str(split_start), \"-t\", str(split_length), \"-i\", filename, \n",
    "                       \"-vcodec\", \"copy\", \"-acodec\", \"copy\",\n",
    "                       shortoutfolder + \"/\" + outfile + \".mp4\"]\n",
    "print (\"About to run: \"+\" \".join(split_args))\n",
    "subprocess.check_output(split_args)\n",
    "\n",
    "FrameCapture(shortoutfolder + \"/\" + outfile + \".mp4\", frameoutfolder)\n",
    "\n",
    "split_args = [\"python\", \"CartoonGAN-Pytorch/test.py\", \"--input_dir\", frameoutfolder, \"--output_dir\",\n",
    "             frameoutfolder2, \"--gpu\", \"0\", \"--model_path\", \"CartoonGAN-Pytorch/pretrained_model\"]\n",
    "cleardir(frameoutfolder2)\n",
    "print (\"About to run: \"+\" \".join(split_args))\n",
    "subprocess.check_output(split_args)\n",
    "\n",
    "videooutfolder = \"baseline/merge/\" + outfile\n",
    "cleardir(videooutfolder)\n",
    "rejoin(frameoutfolder2, \"frame%01d_Hayao.jpg\", videooutfolder + \"/\" + \"Hayao.mp4\" ,24)\n",
    "rejoin(frameoutfolder2, \"frame%01d_Hosoda.jpg\", videooutfolder + \"/\" + \"Hosoda.mp4\" ,24)\n",
    "rejoin(frameoutfolder2, \"frame%01d_Shinkai.jpg\", videooutfolder + \"/\" + \"Shinkai.mp4\" ,24)\n",
    "rejoin(frameoutfolder2, \"frame%01d_Paprika.jpg\", videooutfolder + \"/\" + \"Paprika.mp4\" ,24)\n",
    "rejoin(frameoutfolder2, \"frame%01d_Shinkai.jpg\", videooutfolder + \"/\" + \"ShinkaiSlow.mp4\" ,2)"
   ]
  }
 ],
 "metadata": {
  "kernelspec": {
   "display_name": "Python 3",
   "language": "python",
   "name": "python3"
  },
  "language_info": {
   "codemirror_mode": {
    "name": "ipython",
    "version": 3
   },
   "file_extension": ".py",
   "mimetype": "text/x-python",
   "name": "python",
   "nbconvert_exporter": "python",
   "pygments_lexer": "ipython3",
   "version": "3.7.4"
  }
 },
 "nbformat": 4,
 "nbformat_minor": 2
}
