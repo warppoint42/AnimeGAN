{
 "cells": [
  {
   "cell_type": "code",
   "execution_count": 4,
   "metadata": {},
   "outputs": [],
   "source": [
    "# https://github.com/c0decracker/video-splitter/blob/master/ffmpeg-split.py\n",
    "import csv\n",
    "import subprocess\n",
    "import math\n",
    "import json\n",
    "import os\n",
    "import shlex\n",
    "\n",
    "\n",
    "def get_video_length(filename):\n",
    "\n",
    "    output = subprocess.check_output((\"ffprobe\", \"-v\", \"error\", \"-show_entries\", \"format=duration\", \"-of\", \"default=noprint_wrappers=1:nokey=1\", filename)).strip()\n",
    "    video_length = int(float(output))\n",
    "    print (\"Video length in seconds: \"+str(video_length))\n",
    "\n",
    "    return video_length\n",
    "\n",
    "def ceildiv(a, b):\n",
    "    return int(math.ceil(a / float(b)))\n",
    "\n",
    "def split_by_seconds(filename, split_length, vcodec=\"copy\", acodec=\"copy\",\n",
    "                     extra=\"\", video_length=None, **kwargs):\n",
    "    if split_length and split_length <= 0:\n",
    "        print(\"Split length can't be 0\")\n",
    "        raise SystemExit\n",
    "\n",
    "    if not video_length:\n",
    "        video_length = get_video_length(filename)\n",
    "    split_count = ceildiv(video_length, split_length)\n",
    "    if(split_count == 1):\n",
    "        print(\"Video length is less then the target split length.\")\n",
    "        raise SystemExit\n",
    "\n",
    "    split_cmd = [\"ffmpeg\", \"-i\", filename, \"-vcodec\", vcodec, \"-acodec\", acodec] + shlex.split(extra)\n",
    "    try:\n",
    "        filebase = \".\".join(filename.split(\".\")[:-1])\n",
    "        fileext = filename.split(\".\")[-1]\n",
    "    except IndexError as e:\n",
    "        raise IndexError(\"No . in filename. Error: \" + str(e))\n",
    "    for n in range(0, split_count):\n",
    "        split_args = []\n",
    "        if n == 0:\n",
    "            split_start = 0\n",
    "        else:\n",
    "            split_start = split_length * n\n",
    "\n",
    "        split_args += [\"-ss\", str(split_start), \"-t\", str(split_length),\n",
    "                       filebase + \"-\" + str(n+1) + \"-of-\" + \\\n",
    "                        str(split_count) + \".\" + fileext]\n",
    "        print (\"About to run: \"+\" \".join(split_cmd+split_args))\n",
    "        subprocess.check_output(split_cmd+split_args)"
   ]
  },
  {
   "cell_type": "code",
   "execution_count": 7,
   "metadata": {},
   "outputs": [
    {
     "name": "stdout",
     "output_type": "stream",
     "text": [
      "Video length in seconds: 70\n",
      "About to run: ffmpeg -i vid_full/Jared.mp4 -vcodec copy -acodec copy -ss 0 -t 10 vid_full/Jared-1-of-7.mp4\n",
      "About to run: ffmpeg -i vid_full/Jared.mp4 -vcodec copy -acodec copy -ss 10 -t 10 vid_full/Jared-2-of-7.mp4\n",
      "About to run: ffmpeg -i vid_full/Jared.mp4 -vcodec copy -acodec copy -ss 20 -t 10 vid_full/Jared-3-of-7.mp4\n",
      "About to run: ffmpeg -i vid_full/Jared.mp4 -vcodec copy -acodec copy -ss 30 -t 10 vid_full/Jared-4-of-7.mp4\n",
      "About to run: ffmpeg -i vid_full/Jared.mp4 -vcodec copy -acodec copy -ss 40 -t 10 vid_full/Jared-5-of-7.mp4\n",
      "About to run: ffmpeg -i vid_full/Jared.mp4 -vcodec copy -acodec copy -ss 50 -t 10 vid_full/Jared-6-of-7.mp4\n",
      "About to run: ffmpeg -i vid_full/Jared.mp4 -vcodec copy -acodec copy -ss 60 -t 10 vid_full/Jared-7-of-7.mp4\n"
     ]
    }
   ],
   "source": [
    "split_by_seconds(\"vid_full/Jared.mp4\", 10)"
   ]
  },
  {
   "cell_type": "code",
   "execution_count": 17,
   "metadata": {},
   "outputs": [],
   "source": [
    "# https://www.geeksforgeeks.org/python-program-extract-frames-using-opencv/\n",
    "# Program To Read video \n",
    "# and Extract Frames \n",
    "import cv2 \n",
    "  \n",
    "div = 1\n",
    "# Function to extract frames \n",
    "def FrameCapture(inpath, outpath): \n",
    "      \n",
    "    # Path to video file \n",
    "    vidObj = cv2.VideoCapture(inpath) \n",
    "  \n",
    "    # Used as counter variable \n",
    "    count = 0\n",
    "  \n",
    "    # checks whether frames were extracted \n",
    "    success = 1\n",
    "  \n",
    "    while success: \n",
    "        vidObj.set(cv2.CAP_PROP_POS_MSEC,(count*1000/div))\n",
    "        # vidObj object calls read \n",
    "        # function extract frames \n",
    "        success, image = vidObj.read() \n",
    "        if not success:\n",
    "            break\n",
    "        # Saves the frames with frame-count \n",
    "        cv2.imwrite(\"frame%d.jpg\" % count, image) \n",
    "  \n",
    "        count += 1\n",
    "  \n"
   ]
  },
  {
   "cell_type": "code",
   "execution_count": 18,
   "metadata": {},
   "outputs": [],
   "source": [
    "FrameCapture(\"vid_full/Jared-2-of-7.mp4\")"
   ]
  },
  {
   "cell_type": "code",
   "execution_count": null,
   "metadata": {},
   "outputs": [],
   "source": [
    "def save():\n",
    "    os.system(\"ffmpeg -r 1 -i frame%01d.png -vcodec mpeg4 -y movie.mp4\")"
   ]
  }
 ],
 "metadata": {
  "kernelspec": {
   "display_name": "Python 3",
   "language": "python",
   "name": "python3"
  },
  "language_info": {
   "codemirror_mode": {
    "name": "ipython",
    "version": 3
   },
   "file_extension": ".py",
   "mimetype": "text/x-python",
   "name": "python",
   "nbconvert_exporter": "python",
   "pygments_lexer": "ipython3",
   "version": "3.7.3"
  }
 },
 "nbformat": 4,
 "nbformat_minor": 2
}
