{
 "cells": [
  {
   "cell_type": "code",
   "execution_count": 1,
   "metadata": {},
   "outputs": [],
   "source": [
    "import os\n",
    "import utils"
   ]
  },
  {
   "cell_type": "markdown",
   "metadata": {},
   "source": [
    "# Target dataset processor"
   ]
  },
  {
   "cell_type": "markdown",
   "metadata": {},
   "source": [
    "#### Add names of target datasets to process here"
   ]
  },
  {
   "cell_type": "code",
   "execution_count": 24,
   "metadata": {},
   "outputs": [],
   "source": [
    "datasetnames = [\"YourName\"] #folders containing datasets videos\n",
    "extensions = ('.mp4', '.mkv', '.avi') #acceptable video extensions\n",
    "exclusions = [] #original videos to not process, by filename"
   ]
  },
  {
   "cell_type": "code",
   "execution_count": 20,
   "metadata": {},
   "outputs": [
    {
     "name": "stdout",
     "output_type": "stream",
     "text": [
      "scenedetect -i data/videos/tgts/YourName/YourName.mp4 -o data/videos/tgts_scenes/YourName detect-content split-video\n"
     ]
    }
   ],
   "source": [
    "#split all videos in each dataset folder into scenes, dump scenes into unified dest folder\n",
    "for datasetname in datasetnames:\n",
    "    videolist = os.listdir(\"data/videos/tgts/\" + datasetname)\n",
    "    for videoname in videolist:\n",
    "        if not videoname.lower().endswith(extensions) or videoname in exclusions:\n",
    "            continue\n",
    "        command = (\"scenedetect -i \" \n",
    "                  + \"data/videos/tgts/\" + datasetname + \"/\" + videoname + \" \"\n",
    "                  + \"-o \" + \"data/videos/tgts_scenes/\" + datasetname + \" \" \n",
    "                  + \"detect-content split-video\")\n",
    "        print(command)\n",
    "        os.system(command)"
   ]
  },
  {
   "cell_type": "code",
   "execution_count": 27,
   "metadata": {},
   "outputs": [
    {
     "name": "stdout",
     "output_type": "stream",
     "text": [
      "['.ipynb_checkpoints', 'CynDance-Scene-001.mp4']\n"
     ]
    }
   ],
   "source": [
    "#split all scenes into frames, dump frames into dest dataset folder separated by scene\n",
    "#ignore the first three frames of each scene for anime as scenedetect \n",
    "#seems to hold them from the previous scene\n",
    "\n",
    "for datasetname in datasetnames:\n",
    "    scenelist = os.listdir(\"data/videos/tgts_scenes/\" + datasetname)\n",
    "    \n",
    "    try: #make dest folder if doesn't exist\n",
    "        os.mkdir(\"data/AnimeGAN_data/target_datasets/\" + datasetname)\n",
    "    except OSError:\n",
    "        pass\n",
    "    \n",
    "    for scene in scenelist:\n",
    "        if not scene.lower().endswith(extensions): #skip junk files\n",
    "            continue\n",
    "        inpath = \"data/videos/tgts_scenes/\" + datasetname + \"/\" + scene\n",
    "        outfolder = \"data/AnimeGAN_data/target_datasets/\" + datasetname + \"/\" + scene\n",
    "        frameoutfolder = \"data/img_datasets/target_img_datasets/\" + datasetname\n",
    "        utils.FrameCapture(inpath, outfolder, div = 24, startframe = 3)\n",
    "        utils.FrameCapture(inpath, frameoutfolder, div = 1, clearoutfolder = False)"
   ]
  },
  {
   "cell_type": "code",
   "execution_count": null,
   "metadata": {},
   "outputs": [],
   "source": [
    "#TODO: EDGE-PROMOTING and CROPPING for both image and scenes"
   ]
  },
  {
   "cell_type": "markdown",
   "metadata": {},
   "source": [
    "# Source dataset processor"
   ]
  },
  {
   "cell_type": "code",
   "execution_count": null,
   "metadata": {},
   "outputs": [],
   "source": [
    "videolist = os.listdir(\"data/videos/src/\" + datasetname)\n",
    "for videoname in videolist:\n",
    "    if not videoname.lower().endswith(extensions) or videoname in exclusions:\n",
    "        continue\n",
    "    command = (\"scenedetect -i \" \n",
    "              + \"data/videos/src/\" + videoname + \" \"\n",
    "              + \"-o \" + \"data/videos/src_scenes\" + \" \" \n",
    "              + \"detect-content split-video\")\n",
    "    print(command)\n",
    "    os.system(command)"
   ]
  },
  {
   "cell_type": "code",
   "execution_count": null,
   "metadata": {},
   "outputs": [],
   "source": [
    "scenelist = os.listdir(\"data/videos/src_scenes/\")\n",
    "    \n",
    "for scene in scenelist:\n",
    "    if not scene.lower().endswith(extensions): #skip junk files\n",
    "        continue\n",
    "    print(\"Splitting \" + scene)\n",
    "    inpath = \"data/videos/src_scenes/\" + scene\n",
    "    outfolder = \"data/AnimeGAN_data/src_data/\" + scene\n",
    "    frameoutfolder = \"data/img_datasets/src_img/\"\n",
    "    utils.FrameCapture(inpath, outfolder, div = 24, startframe = 3)\n",
    "    utils.FrameCapture(inpath, frameoutfolder, div = 1, clearoutfolder = False)"
   ]
  },
  {
   "cell_type": "code",
   "execution_count": null,
   "metadata": {},
   "outputs": [],
   "source": [
    "#TODO: CROPPING for both image and scenes"
   ]
  }
 ],
 "metadata": {
  "kernelspec": {
   "display_name": "Python 3",
   "language": "python",
   "name": "python3"
  },
  "language_info": {
   "codemirror_mode": {
    "name": "ipython",
    "version": 3
   },
   "file_extension": ".py",
   "mimetype": "text/x-python",
   "name": "python",
   "nbconvert_exporter": "python",
   "pygments_lexer": "ipython3",
   "version": "3.7.4"
  }
 },
 "nbformat": 4,
 "nbformat_minor": 2
}
