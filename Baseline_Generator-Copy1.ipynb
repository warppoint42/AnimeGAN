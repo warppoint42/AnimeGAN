{
 "cells": [
  {
   "cell_type": "code",
   "execution_count": 2,
   "metadata": {},
   "outputs": [],
   "source": [
    "import csv\n",
    "import subprocess\n",
    "import math\n",
    "import json\n",
    "import os\n",
    "import shlex\n",
    "import cv2 \n",
    "import shutil\n",
    "from tqdm import tqdm\n",
    "import numpy as np"
   ]
  },
  {
   "cell_type": "code",
   "execution_count": 7,
   "metadata": {},
   "outputs": [],
   "source": [
    "import scenedetect\n",
    "from scenedetect.video_manager import VideoManager\n",
    "from scenedetect.scene_manager import SceneManager\n",
    "from scenedetect.frame_timecode import FrameTimecode\n",
    "from scenedetect.stats_manager import StatsManager\n",
    "from scenedetect.detectors import ContentDetector"
   ]
  },
  {
   "cell_type": "code",
   "execution_count": 11,
   "metadata": {},
   "outputs": [
    {
     "data": {
      "text/plain": [
       "'/home/lorenmiller/AnimeGAN'"
      ]
     },
     "execution_count": 11,
     "metadata": {},
     "output_type": "execute_result"
    }
   ],
   "source": [
    "os.getcwd()"
   ]
  },
  {
   "cell_type": "code",
   "execution_count": 12,
   "metadata": {},
   "outputs": [
    {
     "data": {
      "text/plain": [
       "True"
      ]
     },
     "execution_count": 12,
     "metadata": {},
     "output_type": "execute_result"
    }
   ],
   "source": [
    "os.path.exists(\"AnimeGAN/vid_data/full/tgts/YourName/YourName.mp4\")"
   ]
  },
  {
   "cell_type": "code",
   "execution_count": 19,
   "metadata": {},
   "outputs": [],
   "source": [
    "#get FPS of video\n",
    "def getFps(vidname):    \n",
    "    video = cv2.VideoCapture(vidname);\n",
    "\n",
    "    # Find OpenCV version\n",
    "    (major_ver, minor_ver, subminor_ver) = (cv2.__version__).split('.')\n",
    "\n",
    "    if int(major_ver)  < 3 :\n",
    "        fps = video.get(cv2.cv.CV_CAP_PROP_FPS)\n",
    "        print(\"Frames per second using video.get(cv2.cv.CV_CAP_PROP_FPS): {0}\".format(fps))\n",
    "    else :\n",
    "        fps = video.get(cv2.CAP_PROP_FPS)\n",
    "        print(\"Frames per second using video.get(cv2.CAP_PROP_FPS) : {0}\".format(fps))\n",
    "\n",
    "    video.release(); \n",
    "    return fps"
   ]
  },
  {
   "cell_type": "code",
   "execution_count": 20,
   "metadata": {},
   "outputs": [],
   "source": [
    "#create the directory if it doesn't exist, empty it if it does\n",
    "def cleardir(dirpath):\n",
    "    if os.path.exists(dirpath) and os.path.isdir(dirpath):\n",
    "        shutil.rmtree(dirpath)\n",
    "    try:\n",
    "        os.mkdir(dirpath)\n",
    "    except OSError:\n",
    "        print (\"Creation of the directory %s failed\" % dirpath)\n",
    "        print(OSError)\n",
    "    else:\n",
    "        print (\"Successfully created the directory %s \" % dirpath)"
   ]
  },
  {
   "cell_type": "code",
   "execution_count": 21,
   "metadata": {},
   "outputs": [],
   "source": [
    "# https://github.com/c0decracker/video-splitter/blob/master/ffmpeg-split.py\n",
    "\n",
    "def get_video_length(filename):\n",
    "\n",
    "    output = subprocess.check_output((\"ffprobe\", \"-v\", \"error\", \"-show_entries\", \"format=duration\", \"-of\", \"default=noprint_wrappers=1:nokey=1\", filename)).strip()\n",
    "    video_length = int(float(output))\n",
    "    print (\"Video length in seconds: \"+str(video_length))\n",
    "\n",
    "    return video_length\n",
    "\n",
    "def ceildiv(a, b):\n",
    "    return int(math.ceil(a / float(b)))\n",
    "\n",
    "def split_by_seconds(filename, split_length, vcodec=\"copy\", acodec=\"copy\",\n",
    "                     extra=\"\", video_length=None, **kwargs):\n",
    "    if split_length and split_length <= 0:\n",
    "        print(\"Split length can't be 0\")\n",
    "        raise SystemExit\n",
    "\n",
    "    if not video_length:\n",
    "        video_length = get_video_length(filename)\n",
    "    split_count = ceildiv(video_length, split_length)\n",
    "    if(split_count == 1):\n",
    "        print(\"Video length is less then the target split length.\")\n",
    "        raise SystemExit\n",
    "\n",
    "#     split_cmd = [\"ffmpeg\", \"-i\", filename, \"-vcodec\", vcodec, \"-acodec\", acodec] + shlex.split(extra)\n",
    "    split_cmd = [\"ffmpeg\"] + shlex.split(extra)\n",
    "    try:\n",
    "        filebase = \".\".join(filename.split(\".\")[:-1])\n",
    "        shortname = filebase.split('/')[-1]\n",
    "        fileext = filename.split(\".\")[-1]\n",
    "    except IndexError as e:\n",
    "        raise IndexError(\"No . in filename. Error: \" + str(e))\n",
    "    \n",
    "    path = \"vid_short/\" + shortname\n",
    "    cleardir(path)\n",
    "        \n",
    "    for n in range(0, split_count):\n",
    "        split_args = []\n",
    "        if n == 0:\n",
    "            split_start = 0\n",
    "        else:\n",
    "            split_start = split_length * n\n",
    "\n",
    "#         split_args += [\"-ss\", str(split_start), \"-t\", str(split_length),\n",
    "#                        filebase + \"-\" + str(n+1) + \"-of-\" + \\\n",
    "#                         str(split_count) + \".\" + fileext]\n",
    "        split_args += [\"-ss\", str(split_start), \"-t\", str(split_length), \"-i\", filename, \n",
    "                       \"-vcodec\", vcodec, \"-acodec\", acodec,\n",
    "                       \"vid_short/\" + shortname + \"/\" + shortname + str(n+1) + \".\" + fileext]\n",
    "        print (\"About to run: \"+\" \".join(split_cmd+split_args))\n",
    "        subprocess.check_output(split_cmd+split_args)"
   ]
  },
  {
   "cell_type": "code",
   "execution_count": 31,
   "metadata": {},
   "outputs": [],
   "source": [
    "# https://www.geeksforgeeks.org/python-program-extract-frames-using-opencv/\n",
    "# Program To Read video \n",
    "# and Extract Frames \n",
    "  \n",
    "# Function to extract frames \n",
    "def FrameCapture(inpath, outfolder, div = 24, startFrame = 0): \n",
    "      \n",
    "    cleardir(outfolder)\n",
    "    \n",
    "    # Path to video file \n",
    "    vidObj = cv2.VideoCapture(inpath) \n",
    "  \n",
    "    # Used as counter variable \n",
    "    count = startFrame\n",
    "  \n",
    "    # checks whether frames were extracted \n",
    "    success = 1\n",
    "  \n",
    "    while success: \n",
    "        vidObj.set(cv2.CAP_PROP_POS_MSEC,(count*1000/div))\n",
    "        # vidObj object calls read \n",
    "        # function extract frames \n",
    "        success, image = vidObj.read() \n",
    "        if not success:\n",
    "            break\n",
    "        # Saves the frames with frame-count \n",
    "        cv2.imwrite((outfolder + \"/\" + \"frame%d.jpg\") % count, image) \n",
    "  \n",
    "        count += 1\n",
    "  \n"
   ]
  },
  {
   "cell_type": "code",
   "execution_count": 23,
   "metadata": {},
   "outputs": [],
   "source": [
    "#rejoin all images in folder according to pattern into video at fps\n",
    "def rejoin(folder, pattern, outfile, fps):\n",
    "    cmd = \"ffmpeg -r \" + str(fps) + \" -i \" + folder + '/' + pattern + \" -vcodec mpeg4 -y -c:v libx264 -pix_fmt yuv420p \" + outfile\n",
    "    \n",
    "    print(cmd)\n",
    "    os.system(cmd)\n",
    "#     os.system(\"ffmpeg -r 1 -i frame%01d.jpg -vcodec mpeg4 -y movie.mp4\")"
   ]
  },
  {
   "cell_type": "code",
   "execution_count": 24,
   "metadata": {},
   "outputs": [],
   "source": [
    "#generate side-by-side image from images, with right side being gaussian blurred version\n",
    "def edge_promoting(root, save):\n",
    "    file_list = os.listdir(root)\n",
    "    if not os.path.isdir(save):\n",
    "        os.makedirs(save)\n",
    "    kernel_size = 5\n",
    "    kernel = np.ones((kernel_size, kernel_size), np.uint8)\n",
    "    gauss = cv2.getGaussianKernel(kernel_size, 0)\n",
    "    gauss = gauss * gauss.transpose(1, 0)\n",
    "    n = 1\n",
    "    for f in tqdm(file_list):\n",
    "        rgb_img = cv2.imread(os.path.join(root, f))\n",
    "        gray_img = cv2.imread(os.path.join(root, f), 0)\n",
    "        rgb_img = cv2.resize(rgb_img, (256, 256))\n",
    "        pad_img = np.pad(rgb_img, ((2,2), (2,2), (0,0)), mode='reflect')\n",
    "        gray_img = cv2.resize(gray_img, (256, 256))\n",
    "        edges = cv2.Canny(gray_img, 100, 200)\n",
    "        dilation = cv2.dilate(edges, kernel)\n",
    "\n",
    "        gauss_img = np.copy(rgb_img)\n",
    "        idx = np.where(dilation != 0)\n",
    "        for i in range(np.sum(dilation != 0)):\n",
    "            gauss_img[idx[0][i], idx[1][i], 0] = np.sum(np.multiply(pad_img[idx[0][i]:idx[0][i] + kernel_size, idx[1][i]:idx[1][i] + kernel_size, 0], gauss))\n",
    "            gauss_img[idx[0][i], idx[1][i], 1] = np.sum(np.multiply(pad_img[idx[0][i]:idx[0][i] + kernel_size, idx[1][i]:idx[1][i] + kernel_size, 1], gauss))\n",
    "            gauss_img[idx[0][i], idx[1][i], 2] = np.sum(np.multiply(pad_img[idx[0][i]:idx[0][i] + kernel_size, idx[1][i]:idx[1][i] + kernel_size, 2], gauss))\n",
    "\n",
    "        result = np.concatenate((rgb_img, gauss_img), 1)\n",
    "\n",
    "        cv2.imwrite(os.path.join(save, str(n) + '.png'), result)\n",
    "        n += 1"
   ]
  },
  {
   "cell_type": "code",
   "execution_count": 30,
   "metadata": {},
   "outputs": [
    {
     "name": "stdout",
     "output_type": "stream",
     "text": [
      "Successfully created the directory testout23 \n"
     ]
    }
   ],
   "source": [
    "FrameCapture(\"test/YourName-Scene-0023.mp4\", \"testout23\")"
   ]
  },
  {
   "cell_type": "code",
   "execution_count": 8,
   "metadata": {},
   "outputs": [
    {
     "name": "stdout",
     "output_type": "stream",
     "text": [
      "About to run: ffmpeg -y -ss 0 -t 26 -i AnimeGAN/vid_data/full/CynDance.mp4 -vcodec copy -acodec copy baseline/short/CynDance.mp4\n",
      "Successfully created the directory baseline/frames_in/CynDance \n",
      "Successfully created the directory baseline/frames_out/CynDance \n",
      "About to run: python CartoonGAN-Pytorch/test.py --input_dir baseline/frames_in/CynDance --output_dir baseline/frames_out/CynDance --gpu 0 --model_path CartoonGAN-Pytorch/pretrained_model\n"
     ]
    },
    {
     "data": {
      "text/plain": [
       "b'GPU mode\\nFinished!\\n'"
      ]
     },
     "execution_count": 8,
     "metadata": {},
     "output_type": "execute_result"
    }
   ],
   "source": [
    "split_start = 0\n",
    "split_length = 26\n",
    "outfile = \"CynDance\"\n",
    "filename = \"AnimeGAN/vid_data/full/CynDance.mp4\"\n",
    "shortoutfolder = \"baseline/short\"\n",
    "frameoutfolder = \"baseline/frames_in\" + \"/\" + outfile\n",
    "frameoutfolder2 = \"baseline/frames_out\" + \"/\" + outfile\n",
    "videooutfolder = \"baseline/merge/\" + outfile\n",
    "\n",
    "\n",
    "\n",
    "split_args = [\"ffmpeg\", \"-y\", \"-ss\", str(split_start), \"-t\", str(split_length), \"-i\", filename, \n",
    "                       \"-vcodec\", \"copy\", \"-acodec\", \"copy\",\n",
    "                       shortoutfolder + \"/\" + outfile + \".mp4\"]\n",
    "print (\"About to run: \"+\" \".join(split_args))\n",
    "subprocess.check_output(split_args)\n",
    "\n",
    "FrameCapture(shortoutfolder + \"/\" + outfile + \".mp4\", frameoutfolder)\n",
    "\n",
    "split_args = [\"python\", \"CartoonGAN-Pytorch/test.py\", \"--input_dir\", frameoutfolder, \"--output_dir\",\n",
    "             frameoutfolder2, \"--gpu\", \"0\", \"--model_path\", \"CartoonGAN-Pytorch/pretrained_model\"]\n",
    "cleardir(frameoutfolder2)\n",
    "print (\"About to run: \"+\" \".join(split_args))\n",
    "subprocess.check_output(split_args)"
   ]
  },
  {
   "cell_type": "code",
   "execution_count": 9,
   "metadata": {},
   "outputs": [
    {
     "name": "stdout",
     "output_type": "stream",
     "text": [
      "Successfully created the directory baseline/merge/CynDance \n",
      "ffmpeg -r 24 -i baseline/frames_out/CynDance/frame%01d_Hayao.jpg -vcodec mpeg4 -y -c:v libx264 -pix_fmt yuv420p baseline/merge/CynDance/Hayao.mp4\n",
      "ffmpeg -r 24 -i baseline/frames_out/CynDance/frame%01d_Hosoda.jpg -vcodec mpeg4 -y -c:v libx264 -pix_fmt yuv420p baseline/merge/CynDance/Hosoda.mp4\n",
      "ffmpeg -r 24 -i baseline/frames_out/CynDance/frame%01d_Shinkai.jpg -vcodec mpeg4 -y -c:v libx264 -pix_fmt yuv420p baseline/merge/CynDance/Shinkai.mp4\n",
      "ffmpeg -r 24 -i baseline/frames_out/CynDance/frame%01d_Paprika.jpg -vcodec mpeg4 -y -c:v libx264 -pix_fmt yuv420p baseline/merge/CynDance/Paprika.mp4\n"
     ]
    }
   ],
   "source": [
    "videooutfolder = \"baseline/merge/\" + outfile\n",
    "cleardir(videooutfolder)\n",
    "rejoin(frameoutfolder2, \"frame%01d_Hayao.jpg\", videooutfolder + \"/\" + \"Hayao.mp4\" ,24)\n",
    "rejoin(frameoutfolder2, \"frame%01d_Hosoda.jpg\", videooutfolder + \"/\" + \"Hosoda.mp4\" ,24)\n",
    "rejoin(frameoutfolder2, \"frame%01d_Shinkai.jpg\", videooutfolder + \"/\" + \"Shinkai.mp4\" ,24)\n",
    "rejoin(frameoutfolder2, \"frame%01d_Paprika.jpg\", videooutfolder + \"/\" + \"Paprika.mp4\" ,24)"
   ]
  },
  {
   "cell_type": "code",
   "execution_count": 10,
   "metadata": {},
   "outputs": [
    {
     "name": "stdout",
     "output_type": "stream",
     "text": [
      "ffmpeg -r 2 -i baseline/frames_out/CynDance/frame%01d_Shinkai.jpg -vcodec mpeg4 -y -c:v libx264 -pix_fmt yuv420p baseline/merge/CynDance/ShinkaiSlow.mp4\n"
     ]
    }
   ],
   "source": [
    "rejoin(frameoutfolder2, \"frame%01d_Shinkai.jpg\", videooutfolder + \"/\" + \"ShinkaiSlow.mp4\" ,2)"
   ]
  },
  {
   "cell_type": "code",
   "execution_count": null,
   "metadata": {},
   "outputs": [],
   "source": []
  }
 ],
 "metadata": {
  "kernelspec": {
   "display_name": "Python 3",
   "language": "python",
   "name": "python3"
  },
  "language_info": {
   "codemirror_mode": {
    "name": "ipython",
    "version": 3
   },
   "file_extension": ".py",
   "mimetype": "text/x-python",
   "name": "python",
   "nbconvert_exporter": "python",
   "pygments_lexer": "ipython3",
   "version": "3.7.4"
  }
 },
 "nbformat": 4,
 "nbformat_minor": 2
}
